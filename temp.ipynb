{
 "cells": [
  {
   "cell_type": "code",
   "execution_count": 1,
   "metadata": {},
   "outputs": [],
   "source": [
    "# Import Library\n",
    "\n",
    "from reportlab.lib.pagesizes import letter\n",
    "from reportlab.pdfgen import canvas\n",
    "import pandas as pd\n"
   ]
  },
  {
   "cell_type": "code",
   "execution_count": 2,
   "metadata": {},
   "outputs": [],
   "source": [
    "class Schedule:\n",
    "    def __init__(self, name, workplace, location, judging_start_time, judging_end_time, lunch_start, lunch_end):\n",
    "        temp = \":\".join(judging_start_time.split(\":\")[:2])\n",
    "        judging_start_time = temp + \" \" + judging_start_time.split()[-1]\n",
    "\n",
    "        temp = \":\".join(judging_end_time.split(\":\")[:2])\n",
    "        judging_end_time = temp + \" \" + judging_end_time.split()[-1]\n",
    "\n",
    "        temp = \":\".join(lunch_start.split(\":\")[:2])\n",
    "        lunch_start = temp + \" \" + lunch_start.split()[-1]\n",
    "\n",
    "        temp = \":\".join(lunch_end.split(\":\")[:2])\n",
    "        lunch_end = temp + \" \" + lunch_end.split()[-1]\n",
    "\n",
    "        self.name = name\n",
    "        self.workplace = workplace\n",
    "        self.location = location\n",
    "        self.judging_start_time = judging_start_time\n",
    "        self.judging_end_time = judging_end_time\n",
    "        self.lunch_start = lunch_start\n",
    "        self.lunch_end = lunch_end\n"
   ]
  },
  {
   "cell_type": "code",
   "execution_count": 3,
   "metadata": {},
   "outputs": [],
   "source": [
    "# Import temp.csv into pandas\n",
    "df = pd.read_csv('temp.csv')\n",
    "\n",
    "judges = []\n",
    "for i in range(len(df)):\n",
    "    judges.append(Schedule(df['name'][i], \n",
    "                           df['workplace'][i], \n",
    "                           df['judging_room'][i], \n",
    "                           df['start_time'][i],\n",
    "                           df['end_time'][i], \n",
    "                           df['lunch_time_start'][i], \n",
    "                           df['lunch_time_end'][i]))\n"
   ]
  },
  {
   "cell_type": "code",
   "execution_count": 4,
   "metadata": {},
   "outputs": [],
   "source": [
    "def create_schedule_pdf(judge):\n",
    "    # Set up the output file\n",
    "    event_name = \"High School Design Competition\"\n",
    "    output_file = f\"judges/{judge.name}.pdf\"\n",
    "\n",
    "    # Set up the canvas and PDF settings\n",
    "    c = canvas.Canvas(output_file, pagesize=letter)\n",
    "    width, height = letter\n",
    "    judge_info = str(judge.name + \" (\" + judge.workplace +\")\")\n",
    "\n",
    "    # Title of the event - Event Name\n",
    "    c.setFont(\"Helvetica-Bold\", 36)\n",
    "    c.setFillColorRGB(0, 0, 0)  # Set color to black\n",
    "    c.drawCentredString(width / 2.0, height - 75, event_name)\n",
    "    \n",
    "    # Judge's name - Judge Name\n",
    "    c.setFont(\"Helvetica\", 24)\n",
    "    c.drawCentredString(width / 2.0, height - 125, f\"{judge_info}\")\n",
    "\n",
    "    # Judging Room - Room Name\n",
    "    c.setFont(\"Helvetica\", 18)\n",
    "    c.drawCentredString(width / 2.0, height - 175, f\"Assigned Room: {judge.location}\")\n",
    "\n",
    "    # Judging Time - Start Time - End Time\n",
    "    c.setFont(\"Helvetica\", 18)\n",
    "    c.drawCentredString(width / 2.0, height - 225, f\"Judging: {judge.judging_start_time} - {judge.lunch_start}\")\n",
    "\n",
    "    # Lunch Time - Start Time - End Time\n",
    "    c.setFont(\"Helvetica\", 18)\n",
    "    c.drawCentredString(width / 2.0, height - 275, f\"Lunch: {judge.lunch_start} - {judge.lunch_end}\")\n",
    "\n",
    "    # Judging Time - Start Time - End Time\n",
    "    c.setFont(\"Helvetica\", 18)\n",
    "    c.drawCentredString(width / 2.0, height - 325, f\"Judging: {judge.lunch_end} - {judge.judging_end_time}\")\n",
    "\n",
    "\n",
    "    \n",
    "    # Save the PDF\n",
    "    c.showPage()\n",
    "    c.save()\n",
    "    print(f\"PDF saved as {output_file}\")"
   ]
  },
  {
   "cell_type": "code",
   "execution_count": null,
   "metadata": {},
   "outputs": [],
   "source": [
    "for judge in judges:\n",
    "    create_schedule_pdf(judge)"
   ]
  }
 ],
 "metadata": {
  "kernelspec": {
   "display_name": "venv",
   "language": "python",
   "name": "python3"
  },
  "language_info": {
   "codemirror_mode": {
    "name": "ipython",
    "version": 3
   },
   "file_extension": ".py",
   "mimetype": "text/x-python",
   "name": "python",
   "nbconvert_exporter": "python",
   "pygments_lexer": "ipython3",
   "version": "3.12.2"
  }
 },
 "nbformat": 4,
 "nbformat_minor": 2
}
